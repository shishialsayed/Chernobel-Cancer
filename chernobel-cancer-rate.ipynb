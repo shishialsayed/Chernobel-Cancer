{
 "cells": [
  {
   "cell_type": "code",
   "execution_count": 1,
   "id": "dbcc3075",
   "metadata": {
    "execution": {
     "iopub.execute_input": "2022-12-24T18:19:30.187216Z",
     "iopub.status.busy": "2022-12-24T18:19:30.186699Z",
     "iopub.status.idle": "2022-12-24T18:19:30.197484Z",
     "shell.execute_reply": "2022-12-24T18:19:30.196661Z"
    },
    "papermill": {
     "duration": 0.027885,
     "end_time": "2022-12-24T18:19:30.199949",
     "exception": false,
     "start_time": "2022-12-24T18:19:30.172064",
     "status": "completed"
    },
    "tags": []
   },
   "outputs": [],
   "source": [
    "adress = \"/kaggle/input/cancer-rate-before-and-after-chernobyl/cancer_before_and_after_Chernobyl_Belarus.csv\""
   ]
  },
  {
   "cell_type": "markdown",
   "id": "e555f627",
   "metadata": {
    "papermill": {
     "duration": 0.013326,
     "end_time": "2022-12-24T18:19:30.224978",
     "exception": false,
     "start_time": "2022-12-24T18:19:30.211652",
     "status": "completed"
    },
    "tags": []
   },
   "source": [
    "## Questions\n",
    "### what is cancer rate before and after chernobel?\n",
    "### which city has hieghst cases?\n",
    "### which cancer type is more distributed?\n",
    "### relation between cancer rate and sex?\n",
    "\n"
   ]
  },
  {
   "cell_type": "markdown",
   "id": "963115e8",
   "metadata": {
    "papermill": {
     "duration": 0.010924,
     "end_time": "2022-12-24T18:19:30.247010",
     "exception": false,
     "start_time": "2022-12-24T18:19:30.236086",
     "status": "completed"
    },
    "tags": []
   },
   "source": [
    "## EXPLORATION AND PREPROCESSING OF DATA"
   ]
  },
  {
   "cell_type": "markdown",
   "id": "4ce74002",
   "metadata": {
    "papermill": {
     "duration": 0.011183,
     "end_time": "2022-12-24T18:19:30.270180",
     "exception": false,
     "start_time": "2022-12-24T18:19:30.258997",
     "status": "completed"
    },
    "tags": []
   },
   "source": []
  },
  {
   "cell_type": "code",
   "execution_count": 2,
   "id": "c14c4c10",
   "metadata": {
    "execution": {
     "iopub.execute_input": "2022-12-24T18:19:30.295091Z",
     "iopub.status.busy": "2022-12-24T18:19:30.294364Z",
     "iopub.status.idle": "2022-12-24T18:19:31.322486Z",
     "shell.execute_reply": "2022-12-24T18:19:31.321412Z"
    },
    "papermill": {
     "duration": 1.043595,
     "end_time": "2022-12-24T18:19:31.325312",
     "exception": false,
     "start_time": "2022-12-24T18:19:30.281717",
     "status": "completed"
    },
    "tags": []
   },
   "outputs": [],
   "source": [
    "# Importing\n",
    "import pandas as pd\n",
    "import seaborn as sns\n",
    "import matplotlib.pyplot as plt\n",
    "%matplotlib inline\n",
    "pd.plotting.register_matplotlib_converters()"
   ]
  },
  {
   "cell_type": "code",
   "execution_count": 3,
   "id": "4821ab84",
   "metadata": {
    "execution": {
     "iopub.execute_input": "2022-12-24T18:19:31.349132Z",
     "iopub.status.busy": "2022-12-24T18:19:31.348704Z",
     "iopub.status.idle": "2022-12-24T18:19:31.374999Z",
     "shell.execute_reply": "2022-12-24T18:19:31.373800Z"
    },
    "papermill": {
     "duration": 0.040937,
     "end_time": "2022-12-24T18:19:31.377419",
     "exception": false,
     "start_time": "2022-12-24T18:19:31.336482",
     "status": "completed"
    },
    "tags": []
   },
   "outputs": [],
   "source": [
    "#load of data\n",
    "df = pd.read_csv(\"/kaggle/input/cancer-rate-before-and-after-chernobyl/cancer_before_and_after_Chernobyl_Belarus.csv\")"
   ]
  },
  {
   "cell_type": "code",
   "execution_count": 4,
   "id": "962c0286",
   "metadata": {
    "execution": {
     "iopub.execute_input": "2022-12-24T18:19:31.402074Z",
     "iopub.status.busy": "2022-12-24T18:19:31.401311Z",
     "iopub.status.idle": "2022-12-24T18:19:31.423955Z",
     "shell.execute_reply": "2022-12-24T18:19:31.422671Z"
    },
    "papermill": {
     "duration": 0.038877,
     "end_time": "2022-12-24T18:19:31.427367",
     "exception": false,
     "start_time": "2022-12-24T18:19:31.388490",
     "status": "completed"
    },
    "tags": []
   },
   "outputs": [
    {
     "data": {
      "text/html": [
       "<div>\n",
       "<style scoped>\n",
       "    .dataframe tbody tr th:only-of-type {\n",
       "        vertical-align: middle;\n",
       "    }\n",
       "\n",
       "    .dataframe tbody tr th {\n",
       "        vertical-align: top;\n",
       "    }\n",
       "\n",
       "    .dataframe thead th {\n",
       "        text-align: right;\n",
       "    }\n",
       "</style>\n",
       "<table border=\"1\" class=\"dataframe\">\n",
       "  <thead>\n",
       "    <tr style=\"text-align: right;\">\n",
       "      <th></th>\n",
       "      <th>year</th>\n",
       "      <th>sex</th>\n",
       "      <th>location</th>\n",
       "      <th>cancer_type</th>\n",
       "      <th>cases</th>\n",
       "    </tr>\n",
       "  </thead>\n",
       "  <tbody>\n",
       "    <tr>\n",
       "      <th>0</th>\n",
       "      <td>1985</td>\n",
       "      <td>women</td>\n",
       "      <td>Gomel</td>\n",
       "      <td>skin</td>\n",
       "      <td>17.3</td>\n",
       "    </tr>\n",
       "    <tr>\n",
       "      <th>1</th>\n",
       "      <td>1985</td>\n",
       "      <td>women</td>\n",
       "      <td>Mogilev</td>\n",
       "      <td>skin</td>\n",
       "      <td>16.8</td>\n",
       "    </tr>\n",
       "    <tr>\n",
       "      <th>2</th>\n",
       "      <td>1986</td>\n",
       "      <td>women</td>\n",
       "      <td>Gomel</td>\n",
       "      <td>skin</td>\n",
       "      <td>15.6</td>\n",
       "    </tr>\n",
       "    <tr>\n",
       "      <th>3</th>\n",
       "      <td>1986</td>\n",
       "      <td>women</td>\n",
       "      <td>Mogilev</td>\n",
       "      <td>skin</td>\n",
       "      <td>18.3</td>\n",
       "    </tr>\n",
       "    <tr>\n",
       "      <th>4</th>\n",
       "      <td>1985</td>\n",
       "      <td>women</td>\n",
       "      <td>Belarus</td>\n",
       "      <td>skin</td>\n",
       "      <td>14.9</td>\n",
       "    </tr>\n",
       "  </tbody>\n",
       "</table>\n",
       "</div>"
      ],
      "text/plain": [
       "   year    sex location cancer_type  cases\n",
       "0  1985  women    Gomel        skin   17.3\n",
       "1  1985  women  Mogilev        skin   16.8\n",
       "2  1986  women    Gomel        skin   15.6\n",
       "3  1986  women  Mogilev        skin   18.3\n",
       "4  1985  women  Belarus        skin   14.9"
      ]
     },
     "execution_count": 4,
     "metadata": {},
     "output_type": "execute_result"
    }
   ],
   "source": [
    "df.head()"
   ]
  },
  {
   "cell_type": "markdown",
   "id": "54f61ced",
   "metadata": {
    "papermill": {
     "duration": 0.012633,
     "end_time": "2022-12-24T18:19:31.453535",
     "exception": false,
     "start_time": "2022-12-24T18:19:31.440902",
     "status": "completed"
    },
    "tags": []
   },
   "source": [
    "### NOTE: \n",
    "### 1985 = before chernobel (1977:1985)\n",
    "### 1986 = after chernobel (1985:1994)"
   ]
  },
  {
   "cell_type": "code",
   "execution_count": 5,
   "id": "9b21857b",
   "metadata": {
    "execution": {
     "iopub.execute_input": "2022-12-24T18:19:31.482034Z",
     "iopub.status.busy": "2022-12-24T18:19:31.480627Z",
     "iopub.status.idle": "2022-12-24T18:19:31.499168Z",
     "shell.execute_reply": "2022-12-24T18:19:31.497188Z"
    },
    "papermill": {
     "duration": 0.036047,
     "end_time": "2022-12-24T18:19:31.501892",
     "exception": false,
     "start_time": "2022-12-24T18:19:31.465845",
     "status": "completed"
    },
    "tags": []
   },
   "outputs": [
    {
     "data": {
      "text/plain": [
       "skin        12\n",
       "thyroid     12\n",
       "lungs       12\n",
       "pancreas    12\n",
       "colon       12\n",
       "rectum      12\n",
       "kidney      12\n",
       "Name: cancer_type, dtype: int64"
      ]
     },
     "execution_count": 5,
     "metadata": {},
     "output_type": "execute_result"
    }
   ],
   "source": [
    "df['cancer_type'].value_counts()"
   ]
  },
  {
   "cell_type": "code",
   "execution_count": 6,
   "id": "86126b28",
   "metadata": {
    "execution": {
     "iopub.execute_input": "2022-12-24T18:19:31.529194Z",
     "iopub.status.busy": "2022-12-24T18:19:31.528767Z",
     "iopub.status.idle": "2022-12-24T18:19:31.548208Z",
     "shell.execute_reply": "2022-12-24T18:19:31.546949Z"
    },
    "papermill": {
     "duration": 0.035502,
     "end_time": "2022-12-24T18:19:31.550716",
     "exception": false,
     "start_time": "2022-12-24T18:19:31.515214",
     "status": "completed"
    },
    "tags": []
   },
   "outputs": [
    {
     "data": {
      "text/plain": [
       "1.5    1\n",
       "1.9    1\n",
       "1.7    1\n",
       "2.8    1\n",
       "3.1    1\n",
       "3.5    1\n",
       "Name: cases, dtype: int64"
      ]
     },
     "execution_count": 6,
     "metadata": {},
     "output_type": "execute_result"
    }
   ],
   "source": [
    "df.query('cancer_type==\"kidney\" and year==1985').cases.value_counts()"
   ]
  },
  {
   "cell_type": "code",
   "execution_count": 7,
   "id": "192c7c4a",
   "metadata": {
    "execution": {
     "iopub.execute_input": "2022-12-24T18:19:31.577256Z",
     "iopub.status.busy": "2022-12-24T18:19:31.576239Z",
     "iopub.status.idle": "2022-12-24T18:19:31.590696Z",
     "shell.execute_reply": "2022-12-24T18:19:31.589679Z"
    },
    "papermill": {
     "duration": 0.03079,
     "end_time": "2022-12-24T18:19:31.593351",
     "exception": false,
     "start_time": "2022-12-24T18:19:31.562561",
     "status": "completed"
    },
    "tags": []
   },
   "outputs": [
    {
     "data": {
      "text/plain": [
       "38.1    1\n",
       "51.6    1\n",
       "44.1    1\n",
       "Name: cases, dtype: int64"
      ]
     },
     "execution_count": 7,
     "metadata": {},
     "output_type": "execute_result"
    }
   ],
   "source": [
    "df.query('cancer_type==\"lungs\" and year==1985 and sex==\"men\"').cases.value_counts()"
   ]
  },
  {
   "cell_type": "code",
   "execution_count": 8,
   "id": "f58ba73e",
   "metadata": {
    "execution": {
     "iopub.execute_input": "2022-12-24T18:19:31.621281Z",
     "iopub.status.busy": "2022-12-24T18:19:31.620344Z",
     "iopub.status.idle": "2022-12-24T18:19:31.944835Z",
     "shell.execute_reply": "2022-12-24T18:19:31.943230Z"
    },
    "papermill": {
     "duration": 0.341753,
     "end_time": "2022-12-24T18:19:31.947963",
     "exception": false,
     "start_time": "2022-12-24T18:19:31.606210",
     "status": "completed"
    },
    "tags": []
   },
   "outputs": [
    {
     "data": {
      "image/png": "[encoded data removed]",
      "text/plain": [
       "<Figure size 432x288 with 1 Axes>"
      ]
     },
     "metadata": {
      "needs_background": "light"
     },
     "output_type": "display_data"
    }
   ],
   "source": [
    "df.groupby(['sex','cancer_type'])['cases'].sum().plot(kind=\"bar\");"
   ]
  },
  {
   "cell_type": "code",
   "execution_count": 9,
   "id": "4d83fba8",
   "metadata": {
    "execution": {
     "iopub.execute_input": "2022-12-24T18:19:31.979979Z",
     "iopub.status.busy": "2022-12-24T18:19:31.978792Z",
     "iopub.status.idle": "2022-12-24T18:19:31.990432Z",
     "shell.execute_reply": "2022-12-24T18:19:31.989286Z"
    },
    "papermill": {
     "duration": 0.029296,
     "end_time": "2022-12-24T18:19:31.992932",
     "exception": false,
     "start_time": "2022-12-24T18:19:31.963636",
     "status": "completed"
    },
    "tags": []
   },
   "outputs": [
    {
     "data": {
      "text/plain": [
       "year           0\n",
       "sex            0\n",
       "location       0\n",
       "cancer_type    0\n",
       "cases          0\n",
       "dtype: int64"
      ]
     },
     "execution_count": 9,
     "metadata": {},
     "output_type": "execute_result"
    }
   ],
   "source": [
    "df.isnull().sum()"
   ]
  },
  {
   "cell_type": "code",
   "execution_count": 10,
   "id": "f0927cc1",
   "metadata": {
    "execution": {
     "iopub.execute_input": "2022-12-24T18:19:32.020352Z",
     "iopub.status.busy": "2022-12-24T18:19:32.019006Z",
     "iopub.status.idle": "2022-12-24T18:19:32.029051Z",
     "shell.execute_reply": "2022-12-24T18:19:32.027691Z"
    },
    "papermill": {
     "duration": 0.025986,
     "end_time": "2022-12-24T18:19:32.031530",
     "exception": false,
     "start_time": "2022-12-24T18:19:32.005544",
     "status": "completed"
    },
    "tags": []
   },
   "outputs": [
    {
     "data": {
      "text/plain": [
       "0"
      ]
     },
     "execution_count": 10,
     "metadata": {},
     "output_type": "execute_result"
    }
   ],
   "source": [
    "df.duplicated().sum()"
   ]
  },
  {
   "cell_type": "code",
   "execution_count": 11,
   "id": "5253e1f4",
   "metadata": {
    "execution": {
     "iopub.execute_input": "2022-12-24T18:19:32.061204Z",
     "iopub.status.busy": "2022-12-24T18:19:32.060814Z",
     "iopub.status.idle": "2022-12-24T18:19:32.074093Z",
     "shell.execute_reply": "2022-12-24T18:19:32.072890Z"
    },
    "papermill": {
     "duration": 0.029802,
     "end_time": "2022-12-24T18:19:32.076879",
     "exception": false,
     "start_time": "2022-12-24T18:19:32.047077",
     "status": "completed"
    },
    "tags": []
   },
   "outputs": [
    {
     "name": "stdout",
     "output_type": "stream",
     "text": [
      "<class 'pandas.core.frame.DataFrame'>\n",
      "RangeIndex: 84 entries, 0 to 83\n",
      "Data columns (total 5 columns):\n",
      " #   Column       Non-Null Count  Dtype  \n",
      "---  ------       --------------  -----  \n",
      " 0   year         84 non-null     int64  \n",
      " 1   sex          84 non-null     object \n",
      " 2   location     84 non-null     object \n",
      " 3   cancer_type  84 non-null     object \n",
      " 4   cases        84 non-null     float64\n",
      "dtypes: float64(1), int64(1), object(3)\n",
      "memory usage: 3.4+ KB\n"
     ]
    }
   ],
   "source": [
    "df.info()"
   ]
  },
  {
   "cell_type": "code",
   "execution_count": 12,
   "id": "2e09ff2e",
   "metadata": {
    "execution": {
     "iopub.execute_input": "2022-12-24T18:19:32.103201Z",
     "iopub.status.busy": "2022-12-24T18:19:32.102811Z",
     "iopub.status.idle": "2022-12-24T18:19:32.346302Z",
     "shell.execute_reply": "2022-12-24T18:19:32.345369Z"
    },
    "papermill": {
     "duration": 0.259472,
     "end_time": "2022-12-24T18:19:32.348711",
     "exception": false,
     "start_time": "2022-12-24T18:19:32.089239",
     "status": "completed"
    },
    "tags": []
   },
   "outputs": [
    {
     "data": {
      "image/png": "[encoded data removed]",
      "text/plain": [
       "<Figure size 432x288 with 1 Axes>"
      ]
     },
     "metadata": {
      "needs_background": "light"
     },
     "output_type": "display_data"
    }
   ],
   "source": [
    "sns.barplot(x=df.year, y=df.cases);"
   ]
  },
  {
   "cell_type": "markdown",
   "id": "1acf9a57",
   "metadata": {
    "papermill": {
     "duration": 0.012195,
     "end_time": "2022-12-24T18:19:32.373500",
     "exception": false,
     "start_time": "2022-12-24T18:19:32.361305",
     "status": "completed"
    },
    "tags": []
   },
   "source": [
    "#### cases of cancer increased after chernobel"
   ]
  },
  {
   "cell_type": "code",
   "execution_count": 13,
   "id": "3d9357ad",
   "metadata": {
    "execution": {
     "iopub.execute_input": "2022-12-24T18:19:32.401155Z",
     "iopub.status.busy": "2022-12-24T18:19:32.400146Z",
     "iopub.status.idle": "2022-12-24T18:19:32.751483Z",
     "shell.execute_reply": "2022-12-24T18:19:32.750282Z"
    },
    "papermill": {
     "duration": 0.368083,
     "end_time": "2022-12-24T18:19:32.754306",
     "exception": false,
     "start_time": "2022-12-24T18:19:32.386223",
     "status": "completed"
    },
    "tags": []
   },
   "outputs": [
    {
     "data": {
      "image/png": "[encoded data removed]",
      "text/plain": [
       "<Figure size 432x288 with 1 Axes>"
      ]
     },
     "metadata": {
      "needs_background": "light"
     },
     "output_type": "display_data"
    }
   ],
   "source": [
    "sns.regplot(y=\"cases\", x = \"year\", data=df);"
   ]
  },
  {
   "cell_type": "markdown",
   "id": "3b3c47a4",
   "metadata": {
    "papermill": {
     "duration": 0.012434,
     "end_time": "2022-12-24T18:19:32.780064",
     "exception": false,
     "start_time": "2022-12-24T18:19:32.767630",
     "status": "completed"
    },
    "tags": []
   },
   "source": []
  },
  {
   "cell_type": "code",
   "execution_count": 14,
   "id": "5e084c13",
   "metadata": {
    "execution": {
     "iopub.execute_input": "2022-12-24T18:19:32.808709Z",
     "iopub.status.busy": "2022-12-24T18:19:32.807994Z",
     "iopub.status.idle": "2022-12-24T18:19:33.499473Z",
     "shell.execute_reply": "2022-12-24T18:19:33.497816Z"
    },
    "papermill": {
     "duration": 0.709939,
     "end_time": "2022-12-24T18:19:33.502805",
     "exception": false,
     "start_time": "2022-12-24T18:19:32.792866",
     "status": "completed"
    },
    "tags": []
   },
   "outputs": [
    {
     "data": {
      "image/png": "[encoded data removed]",
      "text/plain": [
       "<Figure size 432.25x360 with 1 Axes>"
      ]
     },
     "metadata": {
      "needs_background": "light"
     },
     "output_type": "display_data"
    }
   ],
   "source": [
    "sns.lmplot(y=\"cases\", x = \"year\", hue=\"sex\", data=df);"
   ]
  },
  {
   "cell_type": "markdown",
   "id": "0c5e4fde",
   "metadata": {
    "papermill": {
     "duration": 0.018807,
     "end_time": "2022-12-24T18:19:33.539209",
     "exception": false,
     "start_time": "2022-12-24T18:19:33.520402",
     "status": "completed"
    },
    "tags": []
   },
   "source": [
    "#### increase cancer rate in men > women"
   ]
  },
  {
   "cell_type": "code",
   "execution_count": 15,
   "id": "17ef8048",
   "metadata": {
    "execution": {
     "iopub.execute_input": "2022-12-24T18:19:33.568777Z",
     "iopub.status.busy": "2022-12-24T18:19:33.568110Z",
     "iopub.status.idle": "2022-12-24T18:19:33.579344Z",
     "shell.execute_reply": "2022-12-24T18:19:33.578101Z"
    },
    "papermill": {
     "duration": 0.028907,
     "end_time": "2022-12-24T18:19:33.581877",
     "exception": false,
     "start_time": "2022-12-24T18:19:33.552970",
     "status": "completed"
    },
    "tags": []
   },
   "outputs": [
    {
     "data": {
      "text/plain": [
       "cancer_type  year\n",
       "colon        1985     32.4\n",
       "             1986     48.7\n",
       "kidney       1985     14.5\n",
       "             1986     30.4\n",
       "lungs        1985    146.7\n",
       "             1986    214.4\n",
       "pancreas     1985     28.0\n",
       "             1986     36.4\n",
       "rectum       1985     42.2\n",
       "             1986     58.1\n",
       "skin         1985    106.6\n",
       "             1986    113.2\n",
       "thyroid      1985      6.4\n",
       "             1986     19.8\n",
       "Name: cases, dtype: float64"
      ]
     },
     "execution_count": 15,
     "metadata": {},
     "output_type": "execute_result"
    }
   ],
   "source": [
    "#get cases of cancer acc to cancer type before and after chernobel\n",
    "df.groupby(['cancer_type','year'])['cases'].sum()"
   ]
  },
  {
   "cell_type": "code",
   "execution_count": 16,
   "id": "dd958bc1",
   "metadata": {
    "execution": {
     "iopub.execute_input": "2022-12-24T18:19:33.609824Z",
     "iopub.status.busy": "2022-12-24T18:19:33.609387Z",
     "iopub.status.idle": "2022-12-24T18:19:33.614154Z",
     "shell.execute_reply": "2022-12-24T18:19:33.613165Z"
    },
    "papermill": {
     "duration": 0.021522,
     "end_time": "2022-12-24T18:19:33.616585",
     "exception": false,
     "start_time": "2022-12-24T18:19:33.595063",
     "status": "completed"
    },
    "tags": []
   },
   "outputs": [],
   "source": [
    "balate=['#45BC86', '#8DE4D7','#D4FF33', '#FFBF33', \"#FF6C33\", \"#5E1D03\", \"#3B1202\"]\n"
   ]
  },
  {
   "cell_type": "code",
   "execution_count": 17,
   "id": "96077568",
   "metadata": {
    "execution": {
     "iopub.execute_input": "2022-12-24T18:19:33.644951Z",
     "iopub.status.busy": "2022-12-24T18:19:33.644504Z",
     "iopub.status.idle": "2022-12-24T18:19:33.650114Z",
     "shell.execute_reply": "2022-12-24T18:19:33.648937Z"
    },
    "papermill": {
     "duration": 0.022239,
     "end_time": "2022-12-24T18:19:33.652313",
     "exception": false,
     "start_time": "2022-12-24T18:19:33.630074",
     "status": "completed"
    },
    "tags": []
   },
   "outputs": [],
   "source": [
    "mybal=['#45BC86', '#45BC86','#8DE4D7', '#8DE4D7', '#D4FF33','#D4FF33', '#FFBF33', '#FFBF33' ]"
   ]
  },
  {
   "cell_type": "code",
   "execution_count": 18,
   "id": "45bb5aa4",
   "metadata": {
    "execution": {
     "iopub.execute_input": "2022-12-24T18:19:33.680918Z",
     "iopub.status.busy": "2022-12-24T18:19:33.680502Z",
     "iopub.status.idle": "2022-12-24T18:19:33.963884Z",
     "shell.execute_reply": "2022-12-24T18:19:33.962957Z"
    },
    "papermill": {
     "duration": 0.300656,
     "end_time": "2022-12-24T18:19:33.966262",
     "exception": false,
     "start_time": "2022-12-24T18:19:33.665606",
     "status": "completed"
    },
    "tags": []
   },
   "outputs": [
    {
     "data": {
      "image/png": "[encoded data removed]",
      "text/plain": [
       "<Figure size 432x288 with 1 Axes>"
      ]
     },
     "metadata": {
      "needs_background": "light"
     },
     "output_type": "display_data"
    }
   ],
   "source": [
    "#plotting of results above\n",
    "\n",
    "df.groupby(['cancer_type','year'])['cases'].sum().plot(kind=\"bar\", color=mybal);"
   ]
  },
  {
   "cell_type": "markdown",
   "id": "caf93700",
   "metadata": {
    "papermill": {
     "duration": 0.013055,
     "end_time": "2022-12-24T18:19:33.992890",
     "exception": false,
     "start_time": "2022-12-24T18:19:33.979835",
     "status": "completed"
    },
    "tags": []
   },
   "source": [
    "### seem skin cancer increased by a little rate while lung and thyroid cancer increased by the highiest rate"
   ]
  },
  {
   "cell_type": "code",
   "execution_count": 19,
   "id": "bab6f99c",
   "metadata": {
    "execution": {
     "iopub.execute_input": "2022-12-24T18:19:34.022489Z",
     "iopub.status.busy": "2022-12-24T18:19:34.021802Z",
     "iopub.status.idle": "2022-12-24T18:19:34.264902Z",
     "shell.execute_reply": "2022-12-24T18:19:34.263695Z"
    },
    "papermill": {
     "duration": 0.260737,
     "end_time": "2022-12-24T18:19:34.267607",
     "exception": false,
     "start_time": "2022-12-24T18:19:34.006870",
     "status": "completed"
    },
    "tags": []
   },
   "outputs": [
    {
     "data": {
      "image/png": "[encoded data removed]",
      "text/plain": [
       "<Figure size 432x288 with 1 Axes>"
      ]
     },
     "metadata": {
      "needs_background": "light"
     },
     "output_type": "display_data"
    }
   ],
   "source": [
    "sns.swarmplot(x=df['location'], y=df['cases']);"
   ]
  },
  {
   "cell_type": "markdown",
   "id": "ddb13434",
   "metadata": {
    "papermill": {
     "duration": 0.013186,
     "end_time": "2022-12-24T18:19:34.294551",
     "exception": false,
     "start_time": "2022-12-24T18:19:34.281365",
     "status": "completed"
    },
    "tags": []
   },
   "source": [
    "### cases is the most in Moglivec then Belarus then Gomel"
   ]
  },
  {
   "cell_type": "code",
   "execution_count": 20,
   "id": "84123d90",
   "metadata": {
    "execution": {
     "iopub.execute_input": "2022-12-24T18:19:34.323422Z",
     "iopub.status.busy": "2022-12-24T18:19:34.322983Z",
     "iopub.status.idle": "2022-12-24T18:19:34.699326Z",
     "shell.execute_reply": "2022-12-24T18:19:34.697980Z"
    },
    "papermill": {
     "duration": 0.393778,
     "end_time": "2022-12-24T18:19:34.701906",
     "exception": false,
     "start_time": "2022-12-24T18:19:34.308128",
     "status": "completed"
    },
    "tags": []
   },
   "outputs": [
    {
     "data": {
      "image/png": "[encoded data removed]",
      "text/plain": [
       "<Figure size 720x432 with 1 Axes>"
      ]
     },
     "metadata": {
      "needs_background": "light"
     },
     "output_type": "display_data"
    }
   ],
   "source": [
    "#plotting of results above\n",
    "plt.figure(figsize=(10, 6))\n",
    "df.groupby(['cancer_type', 'location'])['cases'].sum().plot(kind=\"bar\", color='b');"
   ]
  },
  {
   "cell_type": "markdown",
   "id": "fefc97b4",
   "metadata": {
    "papermill": {
     "duration": 0.013804,
     "end_time": "2022-12-24T18:19:34.729813",
     "exception": false,
     "start_time": "2022-12-24T18:19:34.716009",
     "status": "completed"
    },
    "tags": []
   },
   "source": []
  },
  {
   "cell_type": "markdown",
   "id": "4b315aee",
   "metadata": {
    "papermill": {
     "duration": 0.013624,
     "end_time": "2022-12-24T18:19:34.757562",
     "exception": false,
     "start_time": "2022-12-24T18:19:34.743938",
     "status": "completed"
    },
    "tags": []
   },
   "source": [
    "### Gomel has the highest cases of thyroid cancer"
   ]
  },
  {
   "cell_type": "code",
   "execution_count": 21,
   "id": "a1b52f76",
   "metadata": {
    "execution": {
     "iopub.execute_input": "2022-12-24T18:19:34.787993Z",
     "iopub.status.busy": "2022-12-24T18:19:34.787293Z",
     "iopub.status.idle": "2022-12-24T18:19:34.797654Z",
     "shell.execute_reply": "2022-12-24T18:19:34.796480Z"
    },
    "papermill": {
     "duration": 0.028294,
     "end_time": "2022-12-24T18:19:34.800226",
     "exception": false,
     "start_time": "2022-12-24T18:19:34.771932",
     "status": "completed"
    },
    "tags": []
   },
   "outputs": [
    {
     "data": {
      "text/plain": [
       "location  year\n",
       "Belarus   1985    121.5\n",
       "          1986    173.5\n",
       "Gomel     1985    116.4\n",
       "          1986    163.3\n",
       "Mogilev   1985    138.9\n",
       "          1986    184.2\n",
       "Name: cases, dtype: float64"
      ]
     },
     "execution_count": 21,
     "metadata": {},
     "output_type": "execute_result"
    }
   ],
   "source": [
    "df.groupby(['location', 'year'])['cases'].sum()"
   ]
  },
  {
   "cell_type": "code",
   "execution_count": 22,
   "id": "b4997644",
   "metadata": {
    "execution": {
     "iopub.execute_input": "2022-12-24T18:19:34.831125Z",
     "iopub.status.busy": "2022-12-24T18:19:34.830660Z",
     "iopub.status.idle": "2022-12-24T18:19:35.062681Z",
     "shell.execute_reply": "2022-12-24T18:19:35.061490Z"
    },
    "papermill": {
     "duration": 0.250957,
     "end_time": "2022-12-24T18:19:35.065319",
     "exception": false,
     "start_time": "2022-12-24T18:19:34.814362",
     "status": "completed"
    },
    "tags": []
   },
   "outputs": [
    {
     "data": {
      "image/png": "[encoded data removed]",
      "text/plain": [
       "<Figure size 432x288 with 1 Axes>"
      ]
     },
     "metadata": {
      "needs_background": "light"
     },
     "output_type": "display_data"
    }
   ],
   "source": [
    "df.groupby(['location', 'year'])['cases'].sum().plot(kind='bar');"
   ]
  },
  {
   "cell_type": "markdown",
   "id": "a4bf9a91",
   "metadata": {
    "papermill": {
     "duration": 0.013998,
     "end_time": "2022-12-24T18:19:35.093600",
     "exception": false,
     "start_time": "2022-12-24T18:19:35.079602",
     "status": "completed"
    },
    "tags": []
   },
   "source": [
    "### Mogilev has highest number of cases "
   ]
  },
  {
   "cell_type": "code",
   "execution_count": 23,
   "id": "9f1a7583",
   "metadata": {
    "execution": {
     "iopub.execute_input": "2022-12-24T18:19:35.124395Z",
     "iopub.status.busy": "2022-12-24T18:19:35.123717Z",
     "iopub.status.idle": "2022-12-24T18:19:35.135500Z",
     "shell.execute_reply": "2022-12-24T18:19:35.134310Z"
    },
    "papermill": {
     "duration": 0.029988,
     "end_time": "2022-12-24T18:19:35.137905",
     "exception": false,
     "start_time": "2022-12-24T18:19:35.107917",
     "status": "completed"
    },
    "tags": []
   },
   "outputs": [
    {
     "data": {
      "text/plain": [
       "sex    year\n",
       "men    1985    12.576190\n",
       "       1986    17.847619\n",
       "women  1985     5.366667\n",
       "       1986     6.961905\n",
       "Name: cases, dtype: float64"
      ]
     },
     "execution_count": 23,
     "metadata": {},
     "output_type": "execute_result"
    }
   ],
   "source": [
    "df.groupby(['sex', 'year'])[ 'cases'].mean()"
   ]
  },
  {
   "cell_type": "code",
   "execution_count": 24,
   "id": "d1724927",
   "metadata": {
    "execution": {
     "iopub.execute_input": "2022-12-24T18:19:35.168975Z",
     "iopub.status.busy": "2022-12-24T18:19:35.167903Z",
     "iopub.status.idle": "2022-12-24T18:19:35.174934Z",
     "shell.execute_reply": "2022-12-24T18:19:35.173922Z"
    },
    "papermill": {
     "duration": 0.024775,
     "end_time": "2022-12-24T18:19:35.177065",
     "exception": false,
     "start_time": "2022-12-24T18:19:35.152290",
     "status": "completed"
    },
    "tags": []
   },
   "outputs": [
    {
     "data": {
      "text/plain": [
       "0.4190325119236885"
      ]
     },
     "execution_count": 24,
     "metadata": {},
     "output_type": "execute_result"
    }
   ],
   "source": [
    "#increase rate for men\n",
    "(17.847619-12.576190)/12.58"
   ]
  },
  {
   "cell_type": "code",
   "execution_count": 25,
   "id": "4050b2cb",
   "metadata": {
    "execution": {
     "iopub.execute_input": "2022-12-24T18:19:35.210799Z",
     "iopub.status.busy": "2022-12-24T18:19:35.209662Z",
     "iopub.status.idle": "2022-12-24T18:19:35.216829Z",
     "shell.execute_reply": "2022-12-24T18:19:35.215817Z"
    },
    "papermill": {
     "duration": 0.027147,
     "end_time": "2022-12-24T18:19:35.219017",
     "exception": false,
     "start_time": "2022-12-24T18:19:35.191870",
     "status": "completed"
    },
    "tags": []
   },
   "outputs": [
    {
     "data": {
      "text/plain": [
       "0.29706480446927375"
      ]
     },
     "execution_count": 25,
     "metadata": {},
     "output_type": "execute_result"
    }
   ],
   "source": [
    "#increase rate for women\n",
    "(6.961905-5.366667)/5.37"
   ]
  },
  {
   "cell_type": "code",
   "execution_count": 26,
   "id": "c6d55cae",
   "metadata": {
    "execution": {
     "iopub.execute_input": "2022-12-24T18:19:35.250481Z",
     "iopub.status.busy": "2022-12-24T18:19:35.249444Z",
     "iopub.status.idle": "2022-12-24T18:19:35.256062Z",
     "shell.execute_reply": "2022-12-24T18:19:35.254809Z"
    },
    "papermill": {
     "duration": 0.024951,
     "end_time": "2022-12-24T18:19:35.258508",
     "exception": false,
     "start_time": "2022-12-24T18:19:35.233557",
     "status": "completed"
    },
    "tags": []
   },
   "outputs": [
    {
     "name": "stdout",
     "output_type": "stream",
     "text": [
      "Increase rate for men is: 42% \n",
      "Increase rate for women is: 30%\n"
     ]
    }
   ],
   "source": [
    "print(\"Increase rate for men is: {:.0%} \\nIncrease rate for women is: {:.0%}\".format((5.27/12.58),(1.6/5.37)))"
   ]
  },
  {
   "cell_type": "code",
   "execution_count": 27,
   "id": "4085db84",
   "metadata": {
    "execution": {
     "iopub.execute_input": "2022-12-24T18:19:35.290380Z",
     "iopub.status.busy": "2022-12-24T18:19:35.289698Z",
     "iopub.status.idle": "2022-12-24T18:19:35.296461Z",
     "shell.execute_reply": "2022-12-24T18:19:35.295524Z"
    },
    "papermill": {
     "duration": 0.025243,
     "end_time": "2022-12-24T18:19:35.298672",
     "exception": false,
     "start_time": "2022-12-24T18:19:35.273429",
     "status": "completed"
    },
    "tags": []
   },
   "outputs": [
    {
     "data": {
      "text/plain": [
       "36.0"
      ]
     },
     "execution_count": 27,
     "metadata": {},
     "output_type": "execute_result"
    }
   ],
   "source": [
    "(42+30)/2"
   ]
  },
  {
   "cell_type": "code",
   "execution_count": 28,
   "id": "e99ba2fa",
   "metadata": {
    "execution": {
     "iopub.execute_input": "2022-12-24T18:19:35.330493Z",
     "iopub.status.busy": "2022-12-24T18:19:35.329840Z",
     "iopub.status.idle": "2022-12-24T18:19:35.542646Z",
     "shell.execute_reply": "2022-12-24T18:19:35.541464Z"
    },
    "papermill": {
     "duration": 0.2316,
     "end_time": "2022-12-24T18:19:35.545108",
     "exception": false,
     "start_time": "2022-12-24T18:19:35.313508",
     "status": "completed"
    },
    "tags": []
   },
   "outputs": [
    {
     "data": {
      "image/png": "[encoded data removed]",
      "text/plain": [
       "<Figure size 432x288 with 1 Axes>"
      ]
     },
     "metadata": {
      "needs_background": "light"
     },
     "output_type": "display_data"
    }
   ],
   "source": [
    "df.groupby(['sex', 'year'])[ 'cases'].sum().plot(kind=\"bar\");"
   ]
  },
  {
   "cell_type": "code",
   "execution_count": 29,
   "id": "cd9265fe",
   "metadata": {
    "execution": {
     "iopub.execute_input": "2022-12-24T18:19:35.576848Z",
     "iopub.status.busy": "2022-12-24T18:19:35.576413Z",
     "iopub.status.idle": "2022-12-24T18:19:35.585798Z",
     "shell.execute_reply": "2022-12-24T18:19:35.584647Z"
    },
    "papermill": {
     "duration": 0.028122,
     "end_time": "2022-12-24T18:19:35.588192",
     "exception": false,
     "start_time": "2022-12-24T18:19:35.560070",
     "status": "completed"
    },
    "tags": []
   },
   "outputs": [
    {
     "data": {
      "text/plain": [
       "year\n",
       "1985    376.8\n",
       "1986    521.0\n",
       "Name: cases, dtype: float64"
      ]
     },
     "execution_count": 29,
     "metadata": {},
     "output_type": "execute_result"
    }
   ],
   "source": [
    "df.groupby('year')['cases'].sum()"
   ]
  },
  {
   "cell_type": "code",
   "execution_count": 30,
   "id": "6d59ba1f",
   "metadata": {
    "execution": {
     "iopub.execute_input": "2022-12-24T18:19:35.620274Z",
     "iopub.status.busy": "2022-12-24T18:19:35.619897Z",
     "iopub.status.idle": "2022-12-24T18:19:35.625416Z",
     "shell.execute_reply": "2022-12-24T18:19:35.624237Z"
    },
    "papermill": {
     "duration": 0.024809,
     "end_time": "2022-12-24T18:19:35.628234",
     "exception": false,
     "start_time": "2022-12-24T18:19:35.603425",
     "status": "completed"
    },
    "tags": []
   },
   "outputs": [
    {
     "name": "stdout",
     "output_type": "stream",
     "text": [
      "Increase rate of cancer is: 38%\n"
     ]
    }
   ],
   "source": [
    "print(\"Increase rate of cancer is: {:.0%}\".format((521-376.8)/376.8))"
   ]
  },
  {
   "cell_type": "code",
   "execution_count": 31,
   "id": "0ba1f5d9",
   "metadata": {
    "execution": {
     "iopub.execute_input": "2022-12-24T18:19:35.660353Z",
     "iopub.status.busy": "2022-12-24T18:19:35.659980Z",
     "iopub.status.idle": "2022-12-24T18:19:35.670752Z",
     "shell.execute_reply": "2022-12-24T18:19:35.669557Z"
    },
    "papermill": {
     "duration": 0.029838,
     "end_time": "2022-12-24T18:19:35.673245",
     "exception": false,
     "start_time": "2022-12-24T18:19:35.643407",
     "status": "completed"
    },
    "tags": []
   },
   "outputs": [
    {
     "data": {
      "text/plain": [
       "location  sex  \n",
       "Belarus   men      209.3\n",
       "          women     85.7\n",
       "Gomel     men      195.7\n",
       "          women     84.0\n",
       "Mogilev   men      233.9\n",
       "          women     89.2\n",
       "Name: cases, dtype: float64"
      ]
     },
     "execution_count": 31,
     "metadata": {},
     "output_type": "execute_result"
    }
   ],
   "source": [
    "df.groupby(['location', 'sex'])['cases'].sum()"
   ]
  },
  {
   "cell_type": "code",
   "execution_count": 32,
   "id": "93cd37cc",
   "metadata": {
    "execution": {
     "iopub.execute_input": "2022-12-24T18:19:35.706287Z",
     "iopub.status.busy": "2022-12-24T18:19:35.705605Z",
     "iopub.status.idle": "2022-12-24T18:19:35.922507Z",
     "shell.execute_reply": "2022-12-24T18:19:35.921647Z"
    },
    "papermill": {
     "duration": 0.235932,
     "end_time": "2022-12-24T18:19:35.924700",
     "exception": false,
     "start_time": "2022-12-24T18:19:35.688768",
     "status": "completed"
    },
    "tags": []
   },
   "outputs": [
    {
     "data": {
      "image/png": "[encoded data removed]",
      "text/plain": [
       "<Figure size 432x288 with 1 Axes>"
      ]
     },
     "metadata": {
      "needs_background": "light"
     },
     "output_type": "display_data"
    }
   ],
   "source": [
    "df.groupby(['location', 'sex'])['cases'].sum().plot(kind=\"bar\", color=mybal);"
   ]
  },
  {
   "cell_type": "markdown",
   "id": "1994933d",
   "metadata": {
    "papermill": {
     "duration": 0.015374,
     "end_time": "2022-12-24T18:19:35.955708",
     "exception": false,
     "start_time": "2022-12-24T18:19:35.940334",
     "status": "completed"
    },
    "tags": []
   },
   "source": [
    "### Location do not affect cancer rate rate between women."
   ]
  },
  {
   "cell_type": "code",
   "execution_count": 33,
   "id": "1e9ebe28",
   "metadata": {
    "execution": {
     "iopub.execute_input": "2022-12-24T18:19:35.988942Z",
     "iopub.status.busy": "2022-12-24T18:19:35.988491Z",
     "iopub.status.idle": "2022-12-24T18:19:36.161415Z",
     "shell.execute_reply": "2022-12-24T18:19:36.160490Z"
    },
    "papermill": {
     "duration": 0.19247,
     "end_time": "2022-12-24T18:19:36.163766",
     "exception": false,
     "start_time": "2022-12-24T18:19:35.971296",
     "status": "completed"
    },
    "tags": []
   },
   "outputs": [
    {
     "data": {
      "image/png": "[encoded data removed]",
      "text/plain": [
       "<Figure size 432x288 with 1 Axes>"
      ]
     },
     "metadata": {
      "needs_background": "light"
     },
     "output_type": "display_data"
    }
   ],
   "source": [
    "df.groupby(['location', 'year'])['cases'].sum().plot(kind=\"bar\", color=\"#654\");"
   ]
  },
  {
   "cell_type": "code",
   "execution_count": 34,
   "id": "c08a5a8e",
   "metadata": {
    "execution": {
     "iopub.execute_input": "2022-12-24T18:19:36.198059Z",
     "iopub.status.busy": "2022-12-24T18:19:36.197106Z",
     "iopub.status.idle": "2022-12-24T18:19:36.505481Z",
     "shell.execute_reply": "2022-12-24T18:19:36.504656Z"
    },
    "papermill": {
     "duration": 0.327986,
     "end_time": "2022-12-24T18:19:36.507766",
     "exception": false,
     "start_time": "2022-12-24T18:19:36.179780",
     "status": "completed"
    },
    "tags": []
   },
   "outputs": [
    {
     "data": {
      "image/png": "[encoded data removed]",
      "text/plain": [
       "<Figure size 432x288 with 1 Axes>"
      ]
     },
     "metadata": {
      "needs_background": "light"
     },
     "output_type": "display_data"
    }
   ],
   "source": [
    "sns.scatterplot(x=df.cancer_type, y=df.cases, hue=df.sex, data=df);"
   ]
  },
  {
   "cell_type": "markdown",
   "id": "d0a0dee1",
   "metadata": {
    "papermill": {
     "duration": 0.016093,
     "end_time": "2022-12-24T18:19:36.541290",
     "exception": false,
     "start_time": "2022-12-24T18:19:36.525197",
     "status": "completed"
    },
    "tags": []
   },
   "source": [
    "### Lung cancer cases of men more than cases of women by high rate may that becauese of ciggerette or other factors. \n",
    "### Thyroid cancer cases are more prevalent in women > men. "
   ]
  },
  {
   "cell_type": "code",
   "execution_count": 35,
   "id": "0a6dedd7",
   "metadata": {
    "execution": {
     "iopub.execute_input": "2022-12-24T18:19:36.576064Z",
     "iopub.status.busy": "2022-12-24T18:19:36.575631Z",
     "iopub.status.idle": "2022-12-24T18:19:36.583797Z",
     "shell.execute_reply": "2022-12-24T18:19:36.582939Z"
    },
    "papermill": {
     "duration": 0.028226,
     "end_time": "2022-12-24T18:19:36.585923",
     "exception": false,
     "start_time": "2022-12-24T18:19:36.557697",
     "status": "completed"
    },
    "tags": []
   },
   "outputs": [
    {
     "data": {
      "text/plain": [
       "0       skin\n",
       "1       skin\n",
       "2       skin\n",
       "3       skin\n",
       "4       skin\n",
       "       ...  \n",
       "79    kidney\n",
       "80    kidney\n",
       "81    kidney\n",
       "82    kidney\n",
       "83    kidney\n",
       "Name: cancer_type, Length: 84, dtype: object"
      ]
     },
     "execution_count": 35,
     "metadata": {},
     "output_type": "execute_result"
    }
   ],
   "source": [
    "df['cancer_type']"
   ]
  },
  {
   "cell_type": "code",
   "execution_count": 36,
   "id": "6b9215b7",
   "metadata": {
    "execution": {
     "iopub.execute_input": "2022-12-24T18:19:36.621666Z",
     "iopub.status.busy": "2022-12-24T18:19:36.620997Z",
     "iopub.status.idle": "2022-12-24T18:19:36.632918Z",
     "shell.execute_reply": "2022-12-24T18:19:36.631958Z"
    },
    "papermill": {
     "duration": 0.033093,
     "end_time": "2022-12-24T18:19:36.635497",
     "exception": false,
     "start_time": "2022-12-24T18:19:36.602404",
     "status": "completed"
    },
    "tags": []
   },
   "outputs": [
    {
     "data": {
      "text/plain": [
       "sex    year\n",
       "men    1985     2.0\n",
       "       1986     5.0\n",
       "women  1985     4.4\n",
       "       1986    14.8\n",
       "Name: cases, dtype: float64"
      ]
     },
     "execution_count": 36,
     "metadata": {},
     "output_type": "execute_result"
    }
   ],
   "source": [
    "df.query('cancer_type==\"thyroid\"').groupby(['sex','year'])['cases'].sum()"
   ]
  },
  {
   "cell_type": "markdown",
   "id": "99820b64",
   "metadata": {
    "papermill": {
     "duration": 0.016313,
     "end_time": "2022-12-24T18:19:36.668433",
     "exception": false,
     "start_time": "2022-12-24T18:19:36.652120",
     "status": "completed"
    },
    "tags": []
   },
   "source": [
    "### All cancer types cases of men > women except thyroid "
   ]
  },
  {
   "cell_type": "markdown",
   "id": "4aae471a",
   "metadata": {
    "papermill": {
     "duration": 0.016623,
     "end_time": "2022-12-24T18:19:36.701701",
     "exception": false,
     "start_time": "2022-12-24T18:19:36.685078",
     "status": "completed"
    },
    "tags": []
   },
   "source": [
    "### woman has thyroid cancer > male"
   ]
  },
  {
   "cell_type": "code",
   "execution_count": 37,
   "id": "2989297c",
   "metadata": {
    "execution": {
     "iopub.execute_input": "2022-12-24T18:19:36.737209Z",
     "iopub.status.busy": "2022-12-24T18:19:36.736824Z",
     "iopub.status.idle": "2022-12-24T18:19:36.743056Z",
     "shell.execute_reply": "2022-12-24T18:19:36.741813Z"
    },
    "papermill": {
     "duration": 0.026476,
     "end_time": "2022-12-24T18:19:36.745570",
     "exception": false,
     "start_time": "2022-12-24T18:19:36.719094",
     "status": "completed"
    },
    "tags": []
   },
   "outputs": [
    {
     "name": "stdout",
     "output_type": "stream",
     "text": [
      "Increase rate for men is: 42% \n",
      "Increase rate for women is: 30%\n"
     ]
    }
   ],
   "source": [
    "print(\"Increase rate for men is: {:.0%} \\nIncrease rate for women is: {:.0%}\".format((5.27/12.58),(1.6/5.37)))"
   ]
  },
  {
   "cell_type": "markdown",
   "id": "2f254f6d",
   "metadata": {
    "papermill": {
     "duration": 0.016557,
     "end_time": "2022-12-24T18:19:36.778597",
     "exception": false,
     "start_time": "2022-12-24T18:19:36.762040",
     "status": "completed"
    },
    "tags": []
   },
   "source": [
    "# Conclusions:\n",
    "## 1- Cancer rate increased after chernobel by 38%.\n",
    "## 2- Increase of rate in men > women.\n",
    "## 3- Mogiliv has hieghst number of cases.\n",
    "## 4- Gomel has highst cases of thyroid cancer.\n",
    "## 5- Rate incresed in women by 30%.\n",
    "## 6- Rate increased in man by 42%.\n",
    "## 7- In general cancer is more common in men than women except thyroid cancer.\n",
    "## 8- Lung cancer cases in man > women by high rate."
   ]
  }
 ],
 "metadata": {
  "kernelspec": {
   "display_name": "Python 3",
   "language": "python",
   "name": "python3"
  },
  "language_info": {
   "codemirror_mode": {
    "name": "ipython",
    "version": 3
   },
   "file_extension": ".py",
   "mimetype": "text/x-python",
   "name": "python",
   "nbconvert_exporter": "python",
   "pygments_lexer": "ipython3",
   "version": "3.7.12"
  },
  "papermill": {
   "default_parameters": {},
   "duration": 16.31191,
   "end_time": "2022-12-24T18:19:37.617701",
   "environment_variables": {},
   "exception": null,
   "input_path": "__notebook__.ipynb",
   "output_path": "__notebook__.ipynb",
   "parameters": {},
   "start_time": "2022-12-24T18:19:21.305791",
   "version": "2.3.4"
  }
 },
 "nbformat": 4,
 "nbformat_minor": 5
}
